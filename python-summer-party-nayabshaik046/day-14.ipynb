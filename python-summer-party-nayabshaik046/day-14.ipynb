{
  "cells": [
    {
      "cell_type": "markdown",
      "metadata": {},
      "source": [
        "# Day 14: Loyalty Program's Impact on Transaction Patterns"
      ]
    },
    {
      "cell_type": "markdown",
      "metadata": {},
      "source": [
        "You are a Business Analyst on the Starbucks Rewards team investigating customer transaction behavior. Your team wants to understand how loyalty program membership influences purchasing patterns. The goal is to compare transaction metrics between loyalty members and non-members."
      ]
    },
    {
      "cell_type": "code",
      "metadata": {},
      "execution_count": null,
      "outputs": [],
      "source": "import pandas as pd\nimport numpy as np\n\ndim_customers_data = [\n  {\n    \"customer_id\": 1,\n    \"is_loyalty_member\": 1\n  },\n  {\n    \"customer_id\": 2,\n    \"is_loyalty_member\": 0\n  },\n  {\n    \"customer_id\": 3,\n    \"is_loyalty_member\": 1\n  },\n  {\n    \"customer_id\": 4,\n    \"is_loyalty_member\": 0\n  },\n  {\n    \"customer_id\": 5,\n    \"is_loyalty_member\": 1\n  },\n  {\n    \"customer_id\": 6,\n    \"is_loyalty_member\": 1\n  },\n  {\n    \"customer_id\": 7,\n    \"is_loyalty_member\": 0\n  },\n  {\n    \"customer_id\": 8,\n    \"is_loyalty_member\": 1\n  },\n  {\n    \"customer_id\": 9,\n    \"is_loyalty_member\": 0\n  },\n  {\n    \"customer_id\": 10,\n    \"is_loyalty_member\": 0\n  },\n  {\n    \"customer_id\": 11,\n    \"is_loyalty_member\": 1\n  },\n  {\n    \"customer_id\": 12,\n    \"is_loyalty_member\": 0\n  }\n]\ndim_customers = pd.DataFrame(dim_customers_data)\n\nfct_transactions_data = [\n  {\n    \"customer_id\": 1,\n    \"transaction_id\": 101,\n    \"transaction_date\": \"2024-07-05\",\n    \"transaction_value\": 5.5\n  },\n  {\n    \"customer_id\": 1,\n    \"transaction_id\": 102,\n    \"transaction_date\": \"2024-07-15\",\n    \"transaction_value\": 7.25\n  },\n  {\n    \"customer_id\": 2,\n    \"transaction_id\": 103,\n    \"transaction_date\": \"2024-07-10\",\n    \"transaction_value\": 4\n  },\n  {\n    \"customer_id\": 3,\n    \"transaction_id\": 104,\n    \"transaction_date\": \"2024-07-20\",\n    \"transaction_value\": 8.75\n  },\n  {\n    \"customer_id\": 4,\n    \"transaction_id\": 105,\n    \"transaction_date\": \"2024-07-03\",\n    \"transaction_value\": 6.5\n  },\n  {\n    \"customer_id\": 5,\n    \"transaction_id\": 106,\n    \"transaction_date\": \"2024-07-22\",\n    \"transaction_value\": 9\n  },\n  {\n    \"customer_id\": 6,\n    \"transaction_id\": 107,\n    \"transaction_date\": \"2024-07-11\",\n    \"transaction_value\": 10.5\n  },\n  {\n    \"customer_id\": 7,\n    \"transaction_id\": 108,\n    \"transaction_date\": \"2024-07-18\",\n    \"transaction_value\": 4.25\n  },\n  {\n    \"customer_id\": 8,\n    \"transaction_id\": 109,\n    \"transaction_date\": \"2024-07-25\",\n    \"transaction_value\": 12\n  },\n  {\n    \"customer_id\": 9,\n    \"transaction_id\": 110,\n    \"transaction_date\": \"2024-07-07\",\n    \"transaction_value\": 3.75\n  },\n  {\n    \"customer_id\": 10,\n    \"transaction_id\": 111,\n    \"transaction_date\": \"2024-07-12\",\n    \"transaction_value\": 5\n  },\n  {\n    \"customer_id\": 11,\n    \"transaction_id\": 112,\n    \"transaction_date\": \"2024-07-27\",\n    \"transaction_value\": 11.25\n  },\n  {\n    \"customer_id\": 12,\n    \"transaction_id\": 113,\n    \"transaction_date\": \"2024-07-08\",\n    \"transaction_value\": 6\n  },\n  {\n    \"customer_id\": 3,\n    \"transaction_id\": 114,\n    \"transaction_date\": \"2024-07-30\",\n    \"transaction_value\": 7.5\n  },\n  {\n    \"customer_id\": 5,\n    \"transaction_id\": 115,\n    \"transaction_date\": \"2024-07-29\",\n    \"transaction_value\": 10\n  },\n  {\n    \"customer_id\": 1,\n    \"transaction_id\": 116,\n    \"transaction_date\": \"2024-07-31\",\n    \"transaction_value\": 6.25\n  }\n]\nfct_transactions = pd.DataFrame(fct_transactions_data)\n"
    },
    {
      "cell_type": "markdown",
      "metadata": {},
      "source": [
        "## Question 1\n\nFor the month of July 2024, how many transactions did loyalty program members and non-members make? Compare the transaction counts between these two groups."
      ]
    },
    {
      "cell_type": "code",
      "metadata": {},
      "execution_count": null,
      "outputs": [],
      "source": "# Step 1: Convert transaction_date to datetime\nfct_transactions['transaction_date'] = pd.to_datetime(fct_transactions['transaction_date'])\n\n# Step 2: Filter transactions for July 2024\njuly_txns = fct_transactions[\n    (fct_transactions['transaction_date'].dt.month == 7) &\n    (fct_transactions['transaction_date'].dt.year == 2024)\n]\n\n# Step 3: Join with customer dimension to know loyalty status\nmerged_df = july_txns.merge(dim_customers, on=\"customer_id\", how=\"left\")\n\n# Step 4: Count transactions by loyalty membership\ntxn_counts = merged_df.groupby('is_loyalty_member')['transaction_id'].count().reset_index()\ntxn_counts.rename(columns={'transaction_id': 'transaction_count'}, inplace=True)\n\nprint(txn_counts)"
    },
    {
      "cell_type": "markdown",
      "metadata": {},
      "source": [
        "## Question 2\n\nWhat is the average transaction value for loyalty program members and non-members during July 2024? Use this to identify which group has a higher average transaction value."
      ]
    },
    {
      "cell_type": "code",
      "metadata": {},
      "execution_count": null,
      "outputs": [],
      "source": "# Step 1: Convert transaction_date to datetime\nfct_transactions['transaction_date'] = pd.to_datetime(fct_transactions['transaction_date'])\n\n# Step 2: Filter for July 2024 transactions\njuly_txns = fct_transactions[\n    (fct_transactions['transaction_date'].dt.month == 7) &\n    (fct_transactions['transaction_date'].dt.year == 2024)\n]\n\n# Step 3: Merge with customer dimension for loyalty info\nmerged_df = july_txns.merge(dim_customers, on=\"customer_id\", how=\"left\")\n\n# Step 4: Calculate average transaction value by loyalty status\navg_txn_value = (\n    merged_df.groupby('is_loyalty_member')['transaction_value']\n    .mean()\n    .reset_index()\n    .rename(columns={'transaction_value': 'avg_transaction_value'})\n)\n\nprint(avg_txn_value)"
    },
    {
      "cell_type": "markdown",
      "metadata": {},
      "source": [
        "## Question 3\n\nDetermine the percentage difference in average transaction value between loyalty program members and non-members for July 2024."
      ]
    },
    {
      "cell_type": "code",
      "metadata": {},
      "execution_count": null,
      "outputs": [],
      "source": "# Step 1: Convert transaction_date to datetime (if not already done)\nfct_transactions['transaction_date'] = pd.to_datetime(fct_transactions['transaction_date'])\n\n# Step 2: Filter July 2024 transactions\njuly_txns = fct_transactions[\n    (fct_transactions['transaction_date'].dt.month == 7) &\n    (fct_transactions['transaction_date'].dt.year == 2024)\n]\n\n# Step 3: Merge with customer data for loyalty info\nmerged_df = july_txns.merge(dim_customers, on=\"customer_id\", how=\"left\")\n\n# Step 4: Calculate average transaction values\navg_values = merged_df.groupby('is_loyalty_member')['transaction_value'].mean()\n\n# Step 5: Extract values using boolean index\nloyalty_avg = avg_values.loc[True]    # loyalty members\nnon_loyalty_avg = avg_values.loc[False]  # non-members\n\n# Step 6: Percentage difference\npercentage_diff = ((loyalty_avg - non_loyalty_avg) / non_loyalty_avg) * 100\n\nprint(f\"Loyalty Avg: {loyalty_avg:.2f}\")\nprint(f\"Non-Loyalty Avg: {non_loyalty_avg:.2f}\")\nprint(f\"Percentage Difference: {percentage_diff:.2f}%\")"
    },
    {
      "cell_type": "markdown",
      "metadata": {},
      "source": [
        "Made with ❤️ by [Interview Master](https://www.interviewmaster.ai)"
      ]
    }
  ],
  "metadata": {
    "kernelspec": {
      "name": "python3",
      "language": "python",
      "display_name": "Python 3"
    },
    "language_info": {
      "name": "python",
      "version": "3",
      "mimetype": "text/x-python",
      "file_extension": ".py"
    }
  },
  "nbformat": 4,
  "nbformat_minor": 5
}