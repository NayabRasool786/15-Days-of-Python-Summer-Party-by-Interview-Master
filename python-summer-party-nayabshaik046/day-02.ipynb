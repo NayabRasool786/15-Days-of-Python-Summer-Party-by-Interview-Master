{
  "cells": [
    {
      "cell_type": "markdown",
      "metadata": {},
      "source": [
        "# Day 2: Sponsored Posts Click Performance"
      ]
    },
    {
      "cell_type": "markdown",
      "metadata": {},
      "source": [
        "You are a Product Analyst on the Amazon Sponsored Advertising team investigating sponsored product ad engagement across electronics categories. Your team wants to understand CTR variations to optimize targeted advertising strategies."
      ]
    },
    {
      "cell_type": "code",
      "metadata": {},
      "execution_count": null,
      "outputs": [],
      "source": "import pandas as pd\nimport numpy as np\n\ndim_product_data = [\n  {\n    \"product_id\": 1,\n    \"product_name\": \"Smart TV\",\n    \"product_category\": \"Home Electronics\"\n  },\n  {\n    \"product_id\": 2,\n    \"product_name\": \"Wireless Earbuds\",\n    \"product_category\": \"Electronics & Gadgets\"\n  },\n  {\n    \"product_id\": 3,\n    \"product_name\": \"Refrigerator\",\n    \"product_category\": \"Electronics Appliances\"\n  },\n  {\n    \"product_id\": 4,\n    \"product_name\": \"Bestselling Novel\",\n    \"product_category\": \"Books\"\n  },\n  {\n    \"product_id\": 5,\n    \"product_name\": \"Designer Jeans\",\n    \"product_category\": \"Fashion\"\n  },\n  {\n    \"product_id\": 6,\n    \"product_name\": \"Blender\",\n    \"product_category\": \"Kitchen\"\n  },\n  {\n    \"product_id\": 7,\n    \"product_name\": \"Tent\",\n    \"product_category\": \"Outdoor\"\n  },\n  {\n    \"product_id\": 8,\n    \"product_name\": \"Smart Home Hub\",\n    \"product_category\": \"Home Electronics\"\n  },\n  {\n    \"product_id\": 9,\n    \"product_name\": \"Phone Charger\",\n    \"product_category\": \"Electronics Accessories\"\n  },\n  {\n    \"product_id\": 10,\n    \"product_name\": \"Skincare Set\",\n    \"product_category\": \"Health & Beauty\"\n  },\n  {\n    \"product_id\": 11,\n    \"product_name\": \"Drone\",\n    \"product_category\": \"Electronics Gadgets\"\n  },\n  {\n    \"product_id\": 12,\n    \"product_name\": \"Car Charger\",\n    \"product_category\": \"Automotive\"\n  }\n]\ndim_product = pd.DataFrame(dim_product_data)\n\nfct_ad_performance_data = [\n  {\n    \"ad_id\": 101,\n    \"clicks\": 10,\n    \"product_id\": 1,\n    \"impressions\": 200,\n    \"recorded_date\": \"2024-10-02\"\n  },\n  {\n    \"ad_id\": 102,\n    \"clicks\": 15,\n    \"product_id\": 1,\n    \"impressions\": 300,\n    \"recorded_date\": \"2024-10-12\"\n  },\n  {\n    \"ad_id\": 103,\n    \"clicks\": 20,\n    \"product_id\": 2,\n    \"impressions\": 250,\n    \"recorded_date\": \"2024-10-05\"\n  },\n  {\n    \"ad_id\": 104,\n    \"clicks\": 18,\n    \"product_id\": 2,\n    \"impressions\": 230,\n    \"recorded_date\": \"2024-10-20\"\n  },\n  {\n    \"ad_id\": 105,\n    \"clicks\": 5,\n    \"product_id\": 3,\n    \"impressions\": 150,\n    \"recorded_date\": \"2024-10-15\"\n  },\n  {\n    \"ad_id\": 106,\n    \"clicks\": 12,\n    \"product_id\": 3,\n    \"impressions\": 180,\n    \"recorded_date\": \"2024-10-25\"\n  },\n  {\n    \"ad_id\": 107,\n    \"clicks\": 50,\n    \"product_id\": 4,\n    \"impressions\": 500,\n    \"recorded_date\": \"2024-10-07\"\n  },\n  {\n    \"ad_id\": 108,\n    \"clicks\": 8,\n    \"product_id\": 5,\n    \"impressions\": 250,\n    \"recorded_date\": \"2024-10-18\"\n  },\n  {\n    \"ad_id\": 109,\n    \"clicks\": 14,\n    \"product_id\": 6,\n    \"impressions\": 200,\n    \"recorded_date\": \"2024-10-10\"\n  },\n  {\n    \"ad_id\": 110,\n    \"clicks\": 22,\n    \"product_id\": 8,\n    \"impressions\": 220,\n    \"recorded_date\": \"2024-10-30\"\n  },\n  {\n    \"ad_id\": 111,\n    \"clicks\": 30,\n    \"product_id\": 9,\n    \"impressions\": 300,\n    \"recorded_date\": \"2024-10-08\"\n  },\n  {\n    \"ad_id\": 112,\n    \"clicks\": 7,\n    \"product_id\": 11,\n    \"impressions\": 120,\n    \"recorded_date\": \"2024-10-22\"\n  },\n  {\n    \"ad_id\": 113,\n    \"clicks\": 13,\n    \"product_id\": 11,\n    \"impressions\": 150,\n    \"recorded_date\": \"2024-10-28\"\n  },\n  {\n    \"ad_id\": 114,\n    \"clicks\": 9,\n    \"product_id\": 12,\n    \"impressions\": 190,\n    \"recorded_date\": \"2024-10-11\"\n  },\n  {\n    \"ad_id\": 115,\n    \"clicks\": 16,\n    \"product_id\": 2,\n    \"impressions\": 160,\n    \"recorded_date\": \"2024-11-01\"\n  }\n]\nfct_ad_performance = pd.DataFrame(fct_ad_performance_data)\n"
    },
    {
      "cell_type": "markdown",
      "metadata": {},
      "source": [
        "## Question 1\n\nWhat is the average click-through rate (CTR) for sponsored product ads for each product category that contains the substring 'Electronics' in its name during October 2024? This analysis will help determine which electronics-related categories are performing optimally."
      ]
    },
    {
      "cell_type": "code",
      "metadata": {},
      "execution_count": null,
      "outputs": [],
      "source": "# Ensure the date column is in datetime format for proper filtering\nfct_ad_performance['recorded_date'] = pd.to_datetime(fct_ad_performance['recorded_date'])\n\n# Merge the performance and product dataframes to access category names\ndf = pd.merge(fct_ad_performance, dim_product, on='product_id')\n\n# --- Filter the data for the required conditions ---\n\n# 1. Create a mask for categories containing 'Electronics'\nelectronics_mask = df['product_category'].str.contains('Electronics', case=False)\n\n# 2. Create a mask for records from October 2024\noctober_mask = (df['recorded_date'].dt.month == 10) & (df['recorded_date'].dt.year == 2024)\n\n# Apply both filters\nfiltered_df = df[electronics_mask & october_mask]\n\n\n# --- Group, Aggregate, and Calculate CTR ---\n\n# Group by product category and sum the clicks and impressions for each\ncategory_performance = filtered_df.groupby('product_category').agg(\n    total_clicks=('clicks', 'sum'),\n    total_impressions=('impressions', 'sum')\n).reset_index()\n\n# Calculate the CTR for each category, handling cases with zero impressions\ncategory_performance['ctr_percentage'] = np.where(\n    category_performance['total_impressions'] > 0,\n    (category_performance['total_clicks'] / category_performance['total_impressions']) * 100,\n    0\n)\n\n# Print the final dataframe\nprint(category_performance)"
    },
    {
      "cell_type": "markdown",
      "metadata": {},
      "source": [
        "## Question 2\n\nWhich product categories have a CTR greater than the aggregated overall average CTR for sponsored product ads during October 2024? This analysis will identify high-performing categories for further optimization. For this question, we want to calculate CTR for each ad, then get the average across ads by product category & overall."
      ]
    },
    {
      "cell_type": "code",
      "metadata": {},
      "execution_count": null,
      "outputs": [],
      "source": "# Ensure the date column is in datetime format\nfct_ad_performance['recorded_date'] = pd.to_datetime(fct_ad_performance['recorded_date'])\n\n# Merge the dataframes\ndf = pd.merge(fct_ad_performance, dim_product, on='product_id')\n\n# --- 1. Isolate October 2024 Data (Corrected Filter) ---\n# Precisely filter for the month AND year\noctober_2024_mask = (df['recorded_date'].dt.month == 10) & (df['recorded_date'].dt.year == 2024)\noctober_df = df[october_2024_mask].copy()\n\n# --- 2. Calculate CTR for Each Ad and the Overall Average ---\noctober_df['ctr'] = np.where(\n    october_df['impressions'] > 0,\n    (october_df['clicks'] / october_df['impressions']) * 100,\n    0\n)\noverall_average_ctr = october_df['ctr'].mean()\n\n# --- 3. Determine Average CTR by Category ---\ncategory_avg_ctr = october_df.groupby('product_category')['ctr'].mean().reset_index()\n\n# --- 4. Filter for High-Performing Categories ---\nhigh_performing_categories = category_avg_ctr[category_avg_ctr['ctr'] > overall_average_ctr]\nhigh_performing_categories = high_performing_categories.sort_values(by='ctr', ascending=False)\n\n# Print the final result\nprint(f\"Overall Average CTR for October 2024: {overall_average_ctr:.2f}%\\n\")\nprint(\"Categories with CTR greater than the overall average (using precise filtering):\")\nprint(high_performing_categories)"
    },
    {
      "cell_type": "markdown",
      "metadata": {},
      "source": [
        "## Question 3\n\nFor the product categories identified in the previous question, what is the percentage difference between their CTR and the overall average CTR for October 2024? This analysis will quantify the performance gap to recommend specific categories for targeted advertising optimization."
      ]
    },
    {
      "cell_type": "code",
      "metadata": {},
      "execution_count": null,
      "outputs": [],
      "source": "# Ensure the date column is in datetime format\nfct_ad_performance['recorded_date'] = pd.to_datetime(fct_ad_performance['recorded_date'])\n\n# Merge the dataframes\ndf = pd.merge(fct_ad_performance, dim_product, on='product_id')\n\n# --- 1. Isolate October 2024 Data and Calculate Base Metrics ---\n# Precisely filter for October 2024\noctober_2024_mask = (df['recorded_date'].dt.month == 10) & (df['recorded_date'].dt.year == 2024)\noctober_df = df[october_2024_mask].copy()\n\n# Calculate CTR for each ad\noctober_df['ctr'] = np.where(\n    october_df['impressions'] > 0,\n    (october_df['clicks'] / october_df['impressions']) * 100,\n    0\n)\n\n# Calculate the overall average CTR for the period\noverall_average_ctr = october_df['ctr'].mean()\n\n# Determine the average CTR for each category\ncategory_avg_ctr = october_df.groupby('product_category')['ctr'].mean().reset_index()\n\n# Filter for categories that performed better than the overall average\nhigh_performing_categories = category_avg_ctr[category_avg_ctr['ctr'] > overall_average_ctr].copy()\n\n\n# --- 2. Calculate and Display the Percentage Difference ---\n# Apply the formula to find the percentage difference from the average\nhigh_performing_categories['pct_diff_from_avg'] = (\n    (high_performing_categories['ctr'] - overall_average_ctr) / overall_average_ctr\n) * 100\n\n# Sort the results for clarity\nfinal_results = high_performing_categories.sort_values(by='pct_diff_from_avg', ascending=False)\n\n# Print the final dataframe\nprint(f\"Overall Average CTR for October 2024: {overall_average_ctr:.2f}%\\n\")\nprint(\"Performance Gap for High-Performing Categories:\")\nprint(final_results)"
    },
    {
      "cell_type": "markdown",
      "metadata": {},
      "source": [
        "Made with ❤️ by [Interview Master](https://www.interviewmaster.ai)"
      ]
    }
  ],
  "metadata": {
    "kernelspec": {
      "name": "python3",
      "language": "python",
      "display_name": "Python 3"
    },
    "language_info": {
      "name": "python",
      "version": "3",
      "mimetype": "text/x-python",
      "file_extension": ".py"
    }
  },
  "nbformat": 4,
  "nbformat_minor": 5
}