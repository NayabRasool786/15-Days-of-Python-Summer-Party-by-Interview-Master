{
  "cells": [
    {
      "cell_type": "markdown",
      "metadata": {},
      "source": [
        "# Day 3: Disney Parks Guest Spending Behavior"
      ]
    },
    {
      "cell_type": "markdown",
      "metadata": {},
      "source": [
        "You are a data analyst working with the Disney Parks revenue team to understand nuanced guest spending patterns across different park experiences. The team wants to develop a comprehensive view of visitor purchasing behaviors. Your goal is to uncover meaningful insights that can drive personalized marketing strategies."
      ]
    },
    {
      "cell_type": "code",
      "metadata": {},
      "execution_count": null,
      "outputs": [],
      "source": "import pandas as pd\nimport numpy as np\n\nfct_guest_spending_data = [\n  {\n    \"guest_id\": 1,\n    \"visit_date\": \"2024-07-05\",\n    \"amount_spent\": 50,\n    \"park_experience_type\": \"Attraction\"\n  },\n  {\n    \"guest_id\": 2,\n    \"visit_date\": \"2024-07-06\",\n    \"amount_spent\": 30,\n    \"park_experience_type\": \"Dining\"\n  },\n  {\n    \"guest_id\": 3,\n    \"visit_date\": \"2024-07-10\",\n    \"amount_spent\": 20.5,\n    \"park_experience_type\": \"Retail\"\n  },\n  {\n    \"guest_id\": 4,\n    \"visit_date\": \"2024-07-12\",\n    \"amount_spent\": 40,\n    \"park_experience_type\": \"Entertainment\"\n  },\n  {\n    \"guest_id\": 1,\n    \"visit_date\": \"2024-07-15\",\n    \"amount_spent\": 35,\n    \"park_experience_type\": \"Dining\"\n  },\n  {\n    \"guest_id\": 5,\n    \"visit_date\": \"2024-07-20\",\n    \"amount_spent\": 60,\n    \"park_experience_type\": \"Attraction\"\n  },\n  {\n    \"guest_id\": 6,\n    \"visit_date\": \"2024-07-25\",\n    \"amount_spent\": 25,\n    \"park_experience_type\": \"Retail\"\n  },\n  {\n    \"guest_id\": 1,\n    \"visit_date\": \"2024-08-03\",\n    \"amount_spent\": 55,\n    \"park_experience_type\": \"Attraction\"\n  },\n  {\n    \"guest_id\": 1,\n    \"visit_date\": \"2024-08-15\",\n    \"amount_spent\": 45,\n    \"park_experience_type\": \"Dining\"\n  },\n  {\n    \"guest_id\": 2,\n    \"visit_date\": \"2024-08-05\",\n    \"amount_spent\": 22,\n    \"park_experience_type\": \"Retail\"\n  },\n  {\n    \"guest_id\": 2,\n    \"visit_date\": \"2024-08-20\",\n    \"amount_spent\": 38,\n    \"park_experience_type\": \"Entertainment\"\n  },\n  {\n    \"guest_id\": 7,\n    \"visit_date\": \"2024-08-10\",\n    \"amount_spent\": 15,\n    \"park_experience_type\": \"Character Meet\"\n  },\n  {\n    \"guest_id\": 3,\n    \"visit_date\": \"2024-08-25\",\n    \"amount_spent\": 28,\n    \"park_experience_type\": \"Retail\"\n  },\n  {\n    \"guest_id\": 3,\n    \"visit_date\": \"2024-08-27\",\n    \"amount_spent\": 32,\n    \"park_experience_type\": \"Dining\"\n  },\n  {\n    \"guest_id\": 1,\n    \"visit_date\": \"2024-09-02\",\n    \"amount_spent\": 65,\n    \"park_experience_type\": \"Attraction\"\n  },\n  {\n    \"guest_id\": 8,\n    \"visit_date\": \"2024-09-05\",\n    \"amount_spent\": 50,\n    \"park_experience_type\": \"Retail\"\n  },\n  {\n    \"guest_id\": 9,\n    \"visit_date\": \"2024-09-15\",\n    \"amount_spent\": 40,\n    \"park_experience_type\": \"Dining\"\n  },\n  {\n    \"guest_id\": 10,\n    \"visit_date\": \"2024-09-20\",\n    \"amount_spent\": 70,\n    \"park_experience_type\": \"Entertainment\"\n  },\n  {\n    \"guest_id\": 1,\n    \"visit_date\": \"2024-09-25\",\n    \"amount_spent\": 35,\n    \"park_experience_type\": \"Dining\"\n  },\n  {\n    \"guest_id\": 8,\n    \"visit_date\": \"2024-09-28\",\n    \"amount_spent\": 10,\n    \"park_experience_type\": \"Character Meet\"\n  }\n]\nfct_guest_spending = pd.DataFrame(fct_guest_spending_data)\n"
    },
    {
      "cell_type": "markdown",
      "metadata": {},
      "source": [
        "## Question 1\n\nWhat is the average spending per guest per visit for each park experience type during July 2024? Ensure that park experience types with no recorded transactions are shown with an average spending of 0.0. This analysis helps establish baseline spending differences essential for later segmentation."
      ]
    },
    {
      "cell_type": "code",
      "metadata": {},
      "execution_count": null,
      "outputs": [],
      "source": "# Convert 'visit_date' to datetime objects for easy filtering\nfct_guest_spending['visit_date'] = pd.to_datetime(fct_guest_spending['visit_date'])\n\n# Filter the DataFrame for visits that occurred in July 2024\njuly_2024_spending = fct_guest_spending[(fct_guest_spending['visit_date'].dt.year == 2024) & (fct_guest_spending['visit_date'].dt.month == 7)]\n\n# Group by park experience type and calculate the average spending\navg_spending_july_2024 = july_2024_spending.groupby('park_experience_type')['amount_spent'].mean()\n\n# Get all unique park experience types from the original table\nall_experience_types = fct_guest_spending['park_experience_type'].unique()\n\n# Reindex the result to include all experience types, filling missing ones with 0.0\nfinal_avg_spending = avg_spending_july_2024.reindex(all_experience_types, fill_value=0.0)\n\n# Rename the series for clarity in the output\nfinal_avg_spending.name = \"average_spending\"\n\nprint(final_avg_spending)"
    },
    {
      "cell_type": "markdown",
      "metadata": {},
      "source": [
        "## Question 2\n\nFor guests who visited our parks more than once in August 2024, what is the difference in spending between their first and their last visit? This investigation, using sequential analysis, will reveal any shifts in guest spending behavior over multiple visits."
      ]
    },
    {
      "cell_type": "code",
      "metadata": {},
      "execution_count": null,
      "outputs": [],
      "source": "# Ensure 'visit_date' is in datetime format\nfct_guest_spending['visit_date'] = pd.to_datetime(fct_guest_spending['visit_date'])\n\n# 1. Filter for visits that occurred in August 2024\naugust_2024_spending = fct_guest_spending[\n    (fct_guest_spending['visit_date'].dt.year == 2024) & \n    (fct_guest_spending['visit_date'].dt.month == 8)\n]\n\n# 2. Isolate guests who visited more than once in the month\nmulti_visit_df = august_2024_spending.groupby('guest_id').filter(lambda x: len(x) > 1)\n\n# 3. Sort the visits chronologically to identify the first and last\nsorted_visits = multi_visit_df.sort_values(by='visit_date')\n\n# Get the full record for the first and last visit of each guest\nfirst_visits = sorted_visits.groupby('guest_id').first()\nlast_visits = sorted_visits.groupby('guest_id').last()\n\n# 4. Calculate the difference in spending\nspending_difference = last_visits['amount_spent'] - first_visits['amount_spent']\nspending_difference.name = 'spending_difference'\n\n# Display the final result\nprint(spending_difference)"
    },
    {
      "cell_type": "markdown",
      "metadata": {},
      "source": [
        "## Question 3\n\nIn September 2024, how can guests be categorized into distinct spending segments such as Low, Medium, and High based on their total spending? Use the following thresholds for categorization: \n-Low: Includes values from $0 up to, but not including, $50.\n-Medium: Includes values from $50 up to, but not including, $100.\n-High: Includes values from $100 and above. \nExclude guests who did not make any purchases in the period."
      ]
    },
    {
      "cell_type": "code",
      "metadata": {},
      "execution_count": null,
      "outputs": [],
      "source": "# Convert 'visit_date' to datetime objects for easy filtering\nfct_guest_spending['visit_date'] = pd.to_datetime(fct_guest_spending['visit_date'])\n\n# 1. Filter for visits that occurred in September 2024\nseptember_2024_spending = fct_guest_spending[\n    (fct_guest_spending['visit_date'].dt.year == 2024) & \n    (fct_guest_spending['visit_date'].dt.month == 9)\n]\n\n# 2. Calculate the total spending for each guest\ntotal_spending_per_guest = september_2024_spending.groupby('guest_id')['amount_spent'].sum()\n\n# --- Correction ---\n# 3. Exclude guests who did not make a purchase (i.e., total spending is not > 0)\nguests_with_purchases = total_spending_per_guest[total_spending_per_guest > 0]\n\n# 4. Define the bins and labels for segmentation\nbins = [0, 50, 100, float('inf')]\nlabels = ['Low', 'Medium', 'High']\n\n# Apply segmentation only to guests who made purchases\nguest_segments = pd.cut(guests_with_purchases, bins=bins, labels=labels, right=False)\nguest_segments.name = 'spending_segment'\n\n# 5. Display the final, corrected result\nprint(guest_segments)"
    },
    {
      "cell_type": "markdown",
      "metadata": {},
      "source": [
        "Made with ❤️ by [Interview Master](https://www.interviewmaster.ai)"
      ]
    }
  ],
  "metadata": {
    "kernelspec": {
      "name": "python3",
      "language": "python",
      "display_name": "Python 3"
    },
    "language_info": {
      "name": "python",
      "version": "3",
      "mimetype": "text/x-python",
      "file_extension": ".py"
    }
  },
  "nbformat": 4,
  "nbformat_minor": 5
}